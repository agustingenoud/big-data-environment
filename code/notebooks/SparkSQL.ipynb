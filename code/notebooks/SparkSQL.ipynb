{
 "cells": [
  {
   "cell_type": "code",
   "execution_count": 1,
   "metadata": {},
   "outputs": [
    {
     "name": "stdout",
     "output_type": "stream",
     "text": [
      "Requirement already satisfied: findspark in /usr/local/lib/python3.9/dist-packages (2.0.1)\n",
      "\u001b[33mWARNING: Running pip as the 'root' user can result in broken permissions and conflicting behaviour with the system package manager. It is recommended to use a virtual environment instead: https://pip.pypa.io/warnings/venv\u001b[0m\u001b[33m\n",
      "\u001b[0m"
     ]
    }
   ],
   "source": [
    "!pip install findspark"
   ]
  },
  {
   "cell_type": "code",
   "execution_count": 2,
   "metadata": {},
   "outputs": [],
   "source": [
    "from pyspark.sql import SparkSession\n",
    "from pyspark.sql.functions import *\n",
    "\n",
    "import findspark"
   ]
  },
  {
   "cell_type": "code",
   "execution_count": 3,
   "metadata": {},
   "outputs": [
    {
     "name": "stdout",
     "output_type": "stream",
     "text": [
      "/workspace/code/postgresql-42.1.4.jar  /workspace/code/postgresql-42.5.1.jar\n"
     ]
    }
   ],
   "source": [
    "!ls /workspace/code/postgresql-*"
   ]
  },
  {
   "cell_type": "code",
   "execution_count": 5,
   "metadata": {},
   "outputs": [],
   "source": [
    "findspark.add_jars('/workspace/code/postgresql-42.1.4.jar')\n",
    "#findspark.add_jars('/workspace/code/postgresql-42.5.1.jar')\n",
    "findspark.init()"
   ]
  },
  {
   "cell_type": "code",
   "execution_count": 6,
   "metadata": {},
   "outputs": [
    {
     "name": "stderr",
     "output_type": "stream",
     "text": [
      "23/01/08 14:56:58 WARN NativeCodeLoader: Unable to load native-hadoop library for your platform... using builtin-java classes where applicable\n",
      "Using Spark's default log4j profile: org/apache/spark/log4j-defaults.properties\n",
      "Setting default log level to \"WARN\".\n",
      "To adjust logging level use sc.setLogLevel(newLevel). For SparkR, use setLogLevel(newLevel).\n"
     ]
    }
   ],
   "source": [
    "spark = (\n",
    "    SparkSession.builder\n",
    "    .appName(\"read-postgres\")\n",
    "    .config(\"spark.driver.memory\", \"512m\")\n",
    "    .config(\"spark.driver.cores\", \"1\")\n",
    "    .config(\"spark.executor.memory\", \"512m\")\n",
    "    .config(\"spark.executor.cores\", \"1\")\n",
    "    .config(\"spark.sql.shuffle.partitions\", \"2\")\n",
    "    .getOrCreate()\n",
    ")"
   ]
  },
  {
   "cell_type": "code",
   "execution_count": 7,
   "metadata": {},
   "outputs": [],
   "source": [
    "pas=\"postgres\""
   ]
  },
  {
   "cell_type": "code",
   "execution_count": 9,
   "metadata": {},
   "outputs": [],
   "source": [
    "#sql\n",
    "game_clicks = spark.read.format(\"jdbc\") \\\n",
    "    .option(\"url\", \"jdbc:postgresql://postgres/bigdata\") \\\n",
    "    .option(\"driver\", \"org.postgresql.Driver\") \\\n",
    "    .option(\"dbtable\", \"public.game_clicks\") \\\n",
    "    .option(\"user\", \"postgres\") \\\n",
    "    .option(\"password\", pas) \\\n",
    "    .load()"
   ]
  },
  {
   "cell_type": "code",
   "execution_count": 11,
   "metadata": {},
   "outputs": [
    {
     "name": "stderr",
     "output_type": "stream",
     "text": [
      "[Stage 1:>                                                          (0 + 1) / 1]\r"
     ]
    },
    {
     "name": "stdout",
     "output_type": "stream",
     "text": [
      "+-------------------+--------+-------+---------------+------+-------+----------+\n",
      "|          timestamp|click_id|user_id|user_session_id|is_hit|team_id|team_level|\n",
      "+-------------------+--------+-------+---------------+------+-------+----------+\n",
      "|1970-01-01 15:06:55|     105|   1038|           5916|     0|     25|         1|\n",
      "|1970-01-01 15:07:09|     154|   1099|           5898|     0|     44|         1|\n",
      "|1970-01-01 15:07:14|     229|    899|           5757|     0|     71|         1|\n",
      "|1970-01-01 15:07:14|     322|   2197|           5854|     0|     99|         1|\n",
      "|1970-01-01 15:07:20|      22|   1362|           5739|     0|     13|         1|\n",
      "+-------------------+--------+-------+---------------+------+-------+----------+\n",
      "only showing top 5 rows\n",
      "\n"
     ]
    },
    {
     "name": "stderr",
     "output_type": "stream",
     "text": [
      "                                                                                \r"
     ]
    }
   ],
   "source": [
    "game_clicks.show(5)"
   ]
  },
  {
   "cell_type": "code",
   "execution_count": 12,
   "metadata": {},
   "outputs": [
    {
     "name": "stdout",
     "output_type": "stream",
     "text": [
      "root\n",
      " |-- timestamp: timestamp (nullable = true)\n",
      " |-- click_id: integer (nullable = true)\n",
      " |-- user_id: integer (nullable = true)\n",
      " |-- user_session_id: integer (nullable = true)\n",
      " |-- is_hit: integer (nullable = true)\n",
      " |-- team_id: integer (nullable = true)\n",
      " |-- team_level: integer (nullable = true)\n",
      "\n"
     ]
    }
   ],
   "source": [
    "game_clicks.printSchema()"
   ]
  },
  {
   "cell_type": "code",
   "execution_count": 13,
   "metadata": {},
   "outputs": [
    {
     "data": {
      "text/plain": [
       "755806"
      ]
     },
     "execution_count": 13,
     "metadata": {},
     "output_type": "execute_result"
    }
   ],
   "source": [
    "game_clicks.count()"
   ]
  },
  {
   "cell_type": "code",
   "execution_count": 14,
   "metadata": {},
   "outputs": [
    {
     "name": "stdout",
     "output_type": "stream",
     "text": [
      "+-------+----------+\n",
      "|user_id|team_level|\n",
      "+-------+----------+\n",
      "|   1038|         1|\n",
      "|   1099|         1|\n",
      "|    899|         1|\n",
      "|   2197|         1|\n",
      "|   1362|         1|\n",
      "+-------+----------+\n",
      "only showing top 5 rows\n",
      "\n"
     ]
    }
   ],
   "source": [
    "game_clicks.select(\"user_id\", \"team_level\").show(5)"
   ]
  },
  {
   "cell_type": "code",
   "execution_count": 17,
   "metadata": {},
   "outputs": [
    {
     "name": "stdout",
     "output_type": "stream",
     "text": [
      "+-------+----------+\n",
      "|user_id|team_level|\n",
      "+-------+----------+\n",
      "|   1513|         2|\n",
      "|    868|         2|\n",
      "|   1453|         2|\n",
      "|   1282|         2|\n",
      "|   1473|         2|\n",
      "+-------+----------+\n",
      "only showing top 5 rows\n",
      "\n"
     ]
    }
   ],
   "source": [
    "game_clicks.filter(game_clicks[\"team_level\"] > 1).select(\"user_id\", \"team_level\").show(5)"
   ]
  },
  {
   "cell_type": "code",
   "execution_count": 19,
   "metadata": {},
   "outputs": [
    {
     "name": "stderr",
     "output_type": "stream",
     "text": [
      "[Stage 6:>                                                          (0 + 1) / 1]\r"
     ]
    },
    {
     "name": "stdout",
     "output_type": "stream",
     "text": [
      "+------+------+\n",
      "|is_hit| count|\n",
      "+------+------+\n",
      "|     0|672423|\n",
      "|     1| 83383|\n",
      "+------+------+\n",
      "\n"
     ]
    },
    {
     "name": "stderr",
     "output_type": "stream",
     "text": [
      "                                                                                \r"
     ]
    }
   ],
   "source": [
    "game_clicks.groupBy(\"is_hit\").count().show()"
   ]
  },
  {
   "cell_type": "code",
   "execution_count": 20,
   "metadata": {},
   "outputs": [
    {
     "name": "stdout",
     "output_type": "stream",
     "text": [
      "+------------------+-----------+\n",
      "|       avg(is_hit)|sum(is_hit)|\n",
      "+------------------+-----------+\n",
      "|0.1103232840173272|      83383|\n",
      "+------------------+-----------+\n",
      "\n"
     ]
    }
   ],
   "source": [
    "game_clicks.select(mean(\"is_hit\"), sum(\"is_hit\")).show()"
   ]
  },
  {
   "cell_type": "code",
   "execution_count": 23,
   "metadata": {},
   "outputs": [],
   "source": [
    "#sql\n",
    "ad_clicks = spark.read.format(\"jdbc\") \\\n",
    "    .option(\"url\", \"jdbc:postgresql://postgres/bigdata\") \\\n",
    "    .option(\"driver\", \"org.postgresql.Driver\") \\\n",
    "    .option(\"dbtable\", \"public.ad_clicks\") \\\n",
    "    .option(\"user\", \"postgres\") \\\n",
    "    .option(\"password\", pas) \\\n",
    "    .load()"
   ]
  },
  {
   "cell_type": "code",
   "execution_count": 24,
   "metadata": {},
   "outputs": [
    {
     "name": "stdout",
     "output_type": "stream",
     "text": [
      "+-------------------+-----+---------------+-------+-------+-----+-----------+\n",
      "|          timestamp|tx_id|user_session_id|team_id|user_id|ad_id|ad_category|\n",
      "+-------------------+-----+---------------+-------+-------+-----+-----------+\n",
      "|1970-01-01 15:13:22| 5974|           5809|     27|    611|    2|electronics|\n",
      "|1970-01-01 15:17:24| 5976|           5705|     18|   1874|   21|     movies|\n",
      "|1970-01-01 15:22:52| 5978|           5791|     53|   2139|   25|  computers|\n",
      "+-------------------+-----+---------------+-------+-------+-----+-----------+\n",
      "only showing top 3 rows\n",
      "\n"
     ]
    }
   ],
   "source": [
    "ad_clicks.show(3)"
   ]
  },
  {
   "cell_type": "code",
   "execution_count": 25,
   "metadata": {},
   "outputs": [
    {
     "name": "stdout",
     "output_type": "stream",
     "text": [
      "root\n",
      " |-- timestamp: timestamp (nullable = true)\n",
      " |-- tx_id: integer (nullable = true)\n",
      " |-- user_session_id: integer (nullable = true)\n",
      " |-- team_id: integer (nullable = true)\n",
      " |-- user_id: integer (nullable = true)\n",
      " |-- ad_id: integer (nullable = true)\n",
      " |-- ad_category: string (nullable = true)\n",
      "\n"
     ]
    }
   ],
   "source": [
    "ad_clicks.printSchema()"
   ]
  },
  {
   "cell_type": "code",
   "execution_count": 26,
   "metadata": {},
   "outputs": [],
   "source": [
    "join = game_clicks.join(ad_clicks, \"user_id\")"
   ]
  },
  {
   "cell_type": "code",
   "execution_count": 27,
   "metadata": {},
   "outputs": [
    {
     "name": "stdout",
     "output_type": "stream",
     "text": [
      "root\n",
      " |-- user_id: integer (nullable = true)\n",
      " |-- timestamp: timestamp (nullable = true)\n",
      " |-- click_id: integer (nullable = true)\n",
      " |-- user_session_id: integer (nullable = true)\n",
      " |-- is_hit: integer (nullable = true)\n",
      " |-- team_id: integer (nullable = true)\n",
      " |-- team_level: integer (nullable = true)\n",
      " |-- timestamp: timestamp (nullable = true)\n",
      " |-- tx_id: integer (nullable = true)\n",
      " |-- user_session_id: integer (nullable = true)\n",
      " |-- team_id: integer (nullable = true)\n",
      " |-- ad_id: integer (nullable = true)\n",
      " |-- ad_category: string (nullable = true)\n",
      "\n"
     ]
    }
   ],
   "source": [
    "join.printSchema()"
   ]
  },
  {
   "cell_type": "code",
   "execution_count": 29,
   "metadata": {},
   "outputs": [
    {
     "name": "stderr",
     "output_type": "stream",
     "text": [
      "[Stage 14:>                                                         (0 + 1) / 1]\r"
     ]
    },
    {
     "name": "stdout",
     "output_type": "stream",
     "text": [
      "+-------+-------------------+--------+---------------+------+-------+----------+-------------------+-----+---------------+-------+-----+-----------+\n",
      "|user_id|          timestamp|click_id|user_session_id|is_hit|team_id|team_level|          timestamp|tx_id|user_session_id|team_id|ad_id|ad_category|\n",
      "+-------+-------------------+--------+---------------+------+-------+----------+-------------------+-----+---------------+-------+-----+-----------+\n",
      "|     10|1970-01-01 11:42:18|  206846|          16583|     1|    131|         1|1970-01-01 14:43:05|18179|          16583|    131|    3|electronics|\n",
      "|     10|1970-01-01 11:42:18|  206846|          16583|     1|    131|         1|1970-01-01 03:24:01|18860|          18403|    131|    4|      games|\n",
      "|     10|1970-01-01 11:42:18|  206846|          16583|     1|    131|         1|1970-01-01 00:16:48|20153|          18403|    131|   27|      games|\n",
      "|     10|1970-01-01 11:42:18|  206846|          16583|     1|    131|         1|1970-01-01 05:31:41|20457|          18403|    131|   15|     sports|\n",
      "|     10|1970-01-01 11:42:18|  206846|          16583|     1|    131|         1|1970-01-01 07:27:35|21112|          18403|    131|    7|   hardware|\n",
      "+-------+-------------------+--------+---------------+------+-------+----------+-------------------+-----+---------------+-------+-----+-----------+\n",
      "only showing top 5 rows\n",
      "\n"
     ]
    },
    {
     "name": "stderr",
     "output_type": "stream",
     "text": [
      "                                                                                \r"
     ]
    }
   ],
   "source": [
    "join.show(5)"
   ]
  },
  {
   "cell_type": "code",
   "execution_count": null,
   "metadata": {},
   "outputs": [],
   "source": []
  }
 ],
 "metadata": {
  "kernelspec": {
   "display_name": "Python 3 (ipykernel)",
   "language": "python",
   "name": "python3"
  },
  "language_info": {
   "codemirror_mode": {
    "name": "ipython",
    "version": 3
   },
   "file_extension": ".py",
   "mimetype": "text/x-python",
   "name": "python",
   "nbconvert_exporter": "python",
   "pygments_lexer": "ipython3",
   "version": "3.9.2"
  }
 },
 "nbformat": 4,
 "nbformat_minor": 4
}
